{
 "cells": [
  {
   "cell_type": "code",
   "execution_count": 1,
   "id": "029366ef",
   "metadata": {},
   "outputs": [],
   "source": [
    "import numpy as np\n",
    "import matplotlib.pyplot as plt\n",
    "import math\n"
   ]
  },
  {
   "cell_type": "code",
   "execution_count": 2,
   "id": "13d2199a",
   "metadata": {},
   "outputs": [
    {
     "name": "stdout",
     "output_type": "stream",
     "text": [
      "random number btw o to 1= [0.00000e+00 1.00001e-05 2.00002e-05 ... 9.99980e-01 9.99990e-01\n",
      " 1.00000e+00]\n"
     ]
    }
   ],
   "source": [
    "r=np.linspace(0,1,num=100000)\n",
    "print(\"random number btw o to 1=\",r);"
   ]
  },
  {
   "cell_type": "code",
   "execution_count": 3,
   "id": "eac069f9",
   "metadata": {},
   "outputs": [
    {
     "name": "stdout",
     "output_type": "stream",
     "text": [
      "mass of the elctron= 9.11e-31\n"
     ]
    }
   ],
   "source": [
    "m=9.11*10**(-31);\n",
    "print(\"mass of the elctron=\",m);"
   ]
  },
  {
   "cell_type": "code",
   "execution_count": 4,
   "id": "ee4e29d0",
   "metadata": {},
   "outputs": [
    {
     "name": "stdout",
     "output_type": "stream",
     "text": [
      "Temperature of plasma= 3\n",
      "the value of epsilon= 4.5\n"
     ]
    }
   ],
   "source": [
    "T=3;\n",
    "print(\"Temperature of plasma=\",T);\n",
    "Eps=(3/2)*T;\n",
    "print(\"the value of epsilon=\",Eps);"
   ]
  },
  {
   "cell_type": "code",
   "execution_count": 5,
   "id": "4a46aede",
   "metadata": {},
   "outputs": [
    {
     "name": "stdout",
     "output_type": "stream",
     "text": [
      "charge of electron= 1.602e-19\n"
     ]
    }
   ],
   "source": [
    "eg=1.602*10**(-19);\n",
    "print(\"charge of electron=\",eg);"
   ]
  },
  {
   "cell_type": "code",
   "execution_count": 10,
   "id": "7409cb87",
   "metadata": {},
   "outputs": [
    {
     "name": "stdout",
     "output_type": "stream",
     "text": [
      "The value of sin phi= [ 0.00000000e+00  6.28324814e-05  1.25664962e-04 ... -1.25664962e-04\n",
      " -6.28324814e-05 -2.44929360e-16]\n",
      "The value of sin theta= [0.         0.00316229 0.00447216 ... 0.99999    0.999995   1.        ]\n",
      "The value of cos theta= [1.00000000e+00 9.99995000e-01 9.99990000e-01 ... 4.47215832e-03\n",
      " 3.16229347e-03 6.12323400e-17]\n",
      "Normalisation Constant= 1\n"
     ]
    }
   ],
   "source": [
    "z=np.sin(2*np.pi*r);\n",
    "print(\"The value of sin phi=\", z);\n",
    "x=np.sin(np.arccos((1-r)**0.5));\n",
    "print(\"The value of sin theta=\", x);\n",
    "p=np.cos(np.arccos((1-r)**0.5));\n",
    "print(\"The value of cos theta=\", p);\n",
    "C=1;\n",
    "print(\"Normalisation Constant=\",C);"
   ]
  },
  {
   "cell_type": "code",
   "execution_count": 11,
   "id": "14bdb516",
   "metadata": {},
   "outputs": [
    {
     "name": "stdout",
     "output_type": "stream",
     "text": [
      "The values of vx plasma= [ 0.00000000e+00  2.49965289e-01  7.07008601e-01 ... -1.58089558e+02\n",
      " -7.90451743e+01 -3.08130132e-10]\n",
      "The values of vpf  [2.12132034 2.12132034 2.12132034 ... 2.12132029 2.12132033 2.12132034]\n"
     ]
    }
   ],
   "source": [
    "vy=(((2*eg*Eps)/m)**0.5)*x*z;\n",
    "print(\"The values of vx plasma=\",vy);\n",
    "\n",
    "vpf= C*((Eps)**0.5)*(np.exp((-m*vy*vy)/(2*eg*T)))\n",
    "print(\"The values of vpf \",vpf)"
   ]
  },
  {
   "cell_type": "code",
   "execution_count": 12,
   "id": "dcb6c2c5",
   "metadata": {},
   "outputs": [
    {
     "data": {
      "image/png": "[encoded data removed]",
      "text/plain": [
       "<Figure size 640x480 with 1 Axes>"
      ]
     },
     "metadata": {},
     "output_type": "display_data"
    }
   ],
   "source": [
    "fig , ax= plt.subplots()\n",
    "ax.plot(vy,vpf,color=\"red\")\n",
    "plt.xlabel('vy - axis')\n",
    "plt.ylabel('vpf - axis')\n",
    "plt.title(' Cosine V-y')\n",
    "\n",
    "plt.show()"
   ]
  },
  {
   "cell_type": "code",
   "execution_count": null,
   "id": "b47849fd",
   "metadata": {},
   "outputs": [],
   "source": []
  }
 ],
 "metadata": {
  "kernelspec": {
   "display_name": "Python 3 (ipykernel)",
   "language": "python",
   "name": "python3"
  },
  "language_info": {
   "codemirror_mode": {
    "name": "ipython",
    "version": 3
   },
   "file_extension": ".py",
   "mimetype": "text/x-python",
   "name": "python",
   "nbconvert_exporter": "python",
   "pygments_lexer": "ipython3",
   "version": "3.11.3"
  }
 },
 "nbformat": 4,
 "nbformat_minor": 5
}
